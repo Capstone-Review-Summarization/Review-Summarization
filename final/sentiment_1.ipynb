{
 "cells": [
  {
   "cell_type": "code",
   "execution_count": 1,
   "metadata": {},
   "outputs": [],
   "source": [
    "import pandas as pd"
   ]
  },
  {
   "cell_type": "code",
   "execution_count": 2,
   "metadata": {},
   "outputs": [
    {
     "name": "stderr",
     "output_type": "stream",
     "text": [
      "C:\\Users\\Admin\\AppData\\Local\\Temp\\ipykernel_1480\\1060822742.py:1: DtypeWarning: Columns (12) have mixed types. Specify dtype option on import or set low_memory=False.\n",
      "  df = pd.read_csv('data/combined_cleaned_data2/combined_with_fe.csv')\n"
     ]
    },
    {
     "data": {
      "text/html": [
       "<div>\n",
       "<style scoped>\n",
       "    .dataframe tbody tr th:only-of-type {\n",
       "        vertical-align: middle;\n",
       "    }\n",
       "\n",
       "    .dataframe tbody tr th {\n",
       "        vertical-align: top;\n",
       "    }\n",
       "\n",
       "    .dataframe thead th {\n",
       "        text-align: right;\n",
       "    }\n",
       "</style>\n",
       "<table border=\"1\" class=\"dataframe\">\n",
       "  <thead>\n",
       "    <tr style=\"text-align: right;\">\n",
       "      <th></th>\n",
       "      <th>Unnamed: 0.1</th>\n",
       "      <th>Unnamed: 0</th>\n",
       "      <th>overall</th>\n",
       "      <th>verified</th>\n",
       "      <th>reviewTime</th>\n",
       "      <th>reviewerID</th>\n",
       "      <th>asin</th>\n",
       "      <th>style</th>\n",
       "      <th>reviewerName</th>\n",
       "      <th>reviewText</th>\n",
       "      <th>summary</th>\n",
       "      <th>unixReviewTime</th>\n",
       "      <th>vote</th>\n",
       "      <th>image</th>\n",
       "      <th>review_clean</th>\n",
       "      <th>sentiment</th>\n",
       "    </tr>\n",
       "  </thead>\n",
       "  <tbody>\n",
       "    <tr>\n",
       "      <th>0</th>\n",
       "      <td>0</td>\n",
       "      <td>0</td>\n",
       "      <td>5</td>\n",
       "      <td>True</td>\n",
       "      <td>09 24, 2013</td>\n",
       "      <td>A3CZ890UHC8HHZ</td>\n",
       "      <td>B0009RF9DW</td>\n",
       "      <td>{'Size:': ' 6.6 oz'}</td>\n",
       "      <td>Amazon Customer</td>\n",
       "      <td>It diffuses a very mild light perfume, just wh...</td>\n",
       "      <td>What I expected</td>\n",
       "      <td>1379980800</td>\n",
       "      <td>NaN</td>\n",
       "      <td>NaN</td>\n",
       "      <td>wear mild perfume nice strong lotion day perfu...</td>\n",
       "      <td>Positive</td>\n",
       "    </tr>\n",
       "    <tr>\n",
       "      <th>1</th>\n",
       "      <td>1</td>\n",
       "      <td>1</td>\n",
       "      <td>5</td>\n",
       "      <td>False</td>\n",
       "      <td>07 12, 2014</td>\n",
       "      <td>A125TMC44CJBKK</td>\n",
       "      <td>B0012Y0ZG2</td>\n",
       "      <td>{'Size:': ' B-020'}</td>\n",
       "      <td>Mustang Shelly</td>\n",
       "      <td>All time favorite!!!! Wish they still carried ...</td>\n",
       "      <td>Five Stars</td>\n",
       "      <td>1405123200</td>\n",
       "      <td>NaN</td>\n",
       "      <td>NaN</td>\n",
       "      <td>time still favorite carry wish</td>\n",
       "      <td>Positive</td>\n",
       "    </tr>\n",
       "    <tr>\n",
       "      <th>2</th>\n",
       "      <td>2</td>\n",
       "      <td>2</td>\n",
       "      <td>5</td>\n",
       "      <td>True</td>\n",
       "      <td>12 28, 2014</td>\n",
       "      <td>A3JDSBP01M7R2R</td>\n",
       "      <td>B0012Y0ZG2</td>\n",
       "      <td>{'Size:': ' 112'}</td>\n",
       "      <td>Tim A. Brooks</td>\n",
       "      <td>One of my wife's favorites.</td>\n",
       "      <td>Five Stars</td>\n",
       "      <td>1419724800</td>\n",
       "      <td>NaN</td>\n",
       "      <td>NaN</td>\n",
       "      <td>one favorites wife's</td>\n",
       "      <td>Positive</td>\n",
       "    </tr>\n",
       "    <tr>\n",
       "      <th>3</th>\n",
       "      <td>3</td>\n",
       "      <td>3</td>\n",
       "      <td>5</td>\n",
       "      <td>True</td>\n",
       "      <td>03 3, 2014</td>\n",
       "      <td>A2HT5WENL8E5S6</td>\n",
       "      <td>B000FI4S1E</td>\n",
       "      <td>NaN</td>\n",
       "      <td>Shasta Masser</td>\n",
       "      <td>If you have body acne this product is a must. ...</td>\n",
       "      <td>Acne Body Wash A MUST</td>\n",
       "      <td>1393804800</td>\n",
       "      <td>NaN</td>\n",
       "      <td>NaN</td>\n",
       "      <td>heal help within prevent already first wash mu...</td>\n",
       "      <td>Positive</td>\n",
       "    </tr>\n",
       "    <tr>\n",
       "      <th>4</th>\n",
       "      <td>4</td>\n",
       "      <td>4</td>\n",
       "      <td>5</td>\n",
       "      <td>False</td>\n",
       "      <td>11 7, 2014</td>\n",
       "      <td>A7LAYX9R7IMOO</td>\n",
       "      <td>B0012Y0ZG2</td>\n",
       "      <td>{'Size:': ' 123'}</td>\n",
       "      <td>andre luiz</td>\n",
       "      <td>I really is what I expected</td>\n",
       "      <td>Five Stars</td>\n",
       "      <td>1415318400</td>\n",
       "      <td>NaN</td>\n",
       "      <td>NaN</td>\n",
       "      <td>expect really</td>\n",
       "      <td>Positive</td>\n",
       "    </tr>\n",
       "  </tbody>\n",
       "</table>\n",
       "</div>"
      ],
      "text/plain": [
       "   Unnamed: 0.1  Unnamed: 0  overall  verified   reviewTime      reviewerID  \\\n",
       "0             0           0        5      True  09 24, 2013  A3CZ890UHC8HHZ   \n",
       "1             1           1        5     False  07 12, 2014  A125TMC44CJBKK   \n",
       "2             2           2        5      True  12 28, 2014  A3JDSBP01M7R2R   \n",
       "3             3           3        5      True   03 3, 2014  A2HT5WENL8E5S6   \n",
       "4             4           4        5     False   11 7, 2014   A7LAYX9R7IMOO   \n",
       "\n",
       "         asin                 style     reviewerName  \\\n",
       "0  B0009RF9DW  {'Size:': ' 6.6 oz'}  Amazon Customer   \n",
       "1  B0012Y0ZG2   {'Size:': ' B-020'}   Mustang Shelly   \n",
       "2  B0012Y0ZG2     {'Size:': ' 112'}    Tim A. Brooks   \n",
       "3  B000FI4S1E                   NaN    Shasta Masser   \n",
       "4  B0012Y0ZG2     {'Size:': ' 123'}       andre luiz   \n",
       "\n",
       "                                          reviewText                summary  \\\n",
       "0  It diffuses a very mild light perfume, just wh...        What I expected   \n",
       "1  All time favorite!!!! Wish they still carried ...             Five Stars   \n",
       "2                        One of my wife's favorites.             Five Stars   \n",
       "3  If you have body acne this product is a must. ...  Acne Body Wash A MUST   \n",
       "4                        I really is what I expected             Five Stars   \n",
       "\n",
       "   unixReviewTime vote image  \\\n",
       "0      1379980800  NaN   NaN   \n",
       "1      1405123200  NaN   NaN   \n",
       "2      1419724800  NaN   NaN   \n",
       "3      1393804800  NaN   NaN   \n",
       "4      1415318400  NaN   NaN   \n",
       "\n",
       "                                        review_clean sentiment  \n",
       "0  wear mild perfume nice strong lotion day perfu...  Positive  \n",
       "1                     time still favorite carry wish  Positive  \n",
       "2                               one favorites wife's  Positive  \n",
       "3  heal help within prevent already first wash mu...  Positive  \n",
       "4                                      expect really  Positive  "
      ]
     },
     "execution_count": 2,
     "metadata": {},
     "output_type": "execute_result"
    }
   ],
   "source": [
    "df = pd.read_csv('data/combined_cleaned_data2/combined_with_fe.csv')\n",
    "df.head()"
   ]
  },
  {
   "cell_type": "code",
   "execution_count": 3,
   "metadata": {},
   "outputs": [],
   "source": [
    "df.drop(df.columns[[0, 1]], axis = 1, inplace=True)"
   ]
  },
  {
   "cell_type": "code",
   "execution_count": 4,
   "metadata": {},
   "outputs": [],
   "source": [
    "df.dropna(subset=['reviewText', 'review_clean'], inplace=True)"
   ]
  },
  {
   "cell_type": "code",
   "execution_count": 5,
   "metadata": {},
   "outputs": [],
   "source": [
    "df.drop(['reviewTime', 'asin', 'style', 'reviewerName', 'unixReviewTime', 'vote', 'image'], axis=1, inplace=True)"
   ]
  },
  {
   "cell_type": "code",
   "execution_count": 6,
   "metadata": {},
   "outputs": [],
   "source": [
    "from sklearn.preprocessing import LabelEncoder"
   ]
  },
  {
   "cell_type": "code",
   "execution_count": 7,
   "metadata": {},
   "outputs": [],
   "source": [
    "# Encoded the target column\n",
    "lb=LabelEncoder()\n",
    "df['sentiment'] = lb.fit_transform(df['sentiment'])"
   ]
  },
  {
   "cell_type": "code",
   "execution_count": 8,
   "metadata": {},
   "outputs": [],
   "source": [
    "df1 = df.loc[df['sentiment'] == 0]"
   ]
  },
  {
   "cell_type": "code",
   "execution_count": 12,
   "metadata": {},
   "outputs": [],
   "source": [
    "df2 = df.loc[df['sentiment'] == 1]"
   ]
  },
  {
   "cell_type": "code",
   "execution_count": 13,
   "metadata": {},
   "outputs": [
    {
     "name": "stdout",
     "output_type": "stream",
     "text": [
      "(11005, 7) (62378, 7)\n"
     ]
    }
   ],
   "source": [
    "print(df1.shape, df2.shape)"
   ]
  },
  {
   "cell_type": "code",
   "execution_count": 4,
   "metadata": {},
   "outputs": [
    {
     "data": {
      "image/png": "[encoded data removed]",
      "text/plain": [
       "<Figure size 432x288 with 1 Axes>"
      ]
     },
     "metadata": {
      "needs_background": "dark"
     },
     "output_type": "display_data"
    }
   ],
   "source": [
    "import matplotlib.pyplot as plt\n",
    "fig = plt.figure()\n",
    "ax = fig.add_axes([0,0,1,1])\n",
    "review = ['Negative', 'Positive']\n",
    "num = [11005,62378]\n",
    "plt.bar(review, num, color=['red', 'blue'])\n",
    "plt.xlabel(\"Reviews\", color='limegreen')\n",
    "plt.ylabel(\"Number of reviews\", color='limegreen')\n",
    "plt.title('Dataset representation', color='limegreen')\n",
    "plt.tick_params(axis='x', colors='limegreen')\n",
    "plt.tick_params(axis='y', colors='limegreen')\n",
    "plt.show()"
   ]
  },
  {
   "cell_type": "code",
   "execution_count": 14,
   "metadata": {},
   "outputs": [],
   "source": [
    "df3 = df2.sample(n=11005)"
   ]
  },
  {
   "cell_type": "code",
   "execution_count": 15,
   "metadata": {},
   "outputs": [
    {
     "data": {
      "text/plain": [
       "(11005, 7)"
      ]
     },
     "execution_count": 15,
     "metadata": {},
     "output_type": "execute_result"
    }
   ],
   "source": [
    "df3.shape"
   ]
  },
  {
   "cell_type": "code",
   "execution_count": 17,
   "metadata": {},
   "outputs": [
    {
     "data": {
      "text/html": [
       "<div>\n",
       "<style scoped>\n",
       "    .dataframe tbody tr th:only-of-type {\n",
       "        vertical-align: middle;\n",
       "    }\n",
       "\n",
       "    .dataframe tbody tr th {\n",
       "        vertical-align: top;\n",
       "    }\n",
       "\n",
       "    .dataframe thead th {\n",
       "        text-align: right;\n",
       "    }\n",
       "</style>\n",
       "<table border=\"1\" class=\"dataframe\">\n",
       "  <thead>\n",
       "    <tr style=\"text-align: right;\">\n",
       "      <th></th>\n",
       "      <th>overall</th>\n",
       "      <th>verified</th>\n",
       "      <th>reviewerID</th>\n",
       "      <th>reviewText</th>\n",
       "      <th>summary</th>\n",
       "      <th>review_clean</th>\n",
       "      <th>sentiment</th>\n",
       "    </tr>\n",
       "  </thead>\n",
       "  <tbody>\n",
       "    <tr>\n",
       "      <th>5761</th>\n",
       "      <td>5</td>\n",
       "      <td>True</td>\n",
       "      <td>ABRX0RQNRXX85</td>\n",
       "      <td>I bought these for my wife. She saw them in th...</td>\n",
       "      <td>My wife loves these shoes.</td>\n",
       "      <td>complains favorite buy warehouse store couple ...</td>\n",
       "      <td>1</td>\n",
       "    </tr>\n",
       "    <tr>\n",
       "      <th>11185</th>\n",
       "      <td>5</td>\n",
       "      <td>True</td>\n",
       "      <td>A3U3ZDX50JR3AJ</td>\n",
       "      <td>Love this stencil.  Easy to use.  Wish there w...</td>\n",
       "      <td>Daisies</td>\n",
       "      <td>rub use stencil like ons love easy pattern wish</td>\n",
       "      <td>1</td>\n",
       "    </tr>\n",
       "    <tr>\n",
       "      <th>63571</th>\n",
       "      <td>5</td>\n",
       "      <td>True</td>\n",
       "      <td>A31OIXDTDVNVS8</td>\n",
       "      <td>I bought this as a gift for my zombie hating s...</td>\n",
       "      <td>pretty awesome gift</td>\n",
       "      <td>buy zombie cherish hating time love long son gift</td>\n",
       "      <td>1</td>\n",
       "    </tr>\n",
       "    <tr>\n",
       "      <th>37118</th>\n",
       "      <td>5</td>\n",
       "      <td>True</td>\n",
       "      <td>A1ODE5OC69SBIF</td>\n",
       "      <td>Love how my hands feel</td>\n",
       "      <td>Hand cream</td>\n",
       "      <td>love hand feel</td>\n",
       "      <td>1</td>\n",
       "    </tr>\n",
       "    <tr>\n",
       "      <th>13499</th>\n",
       "      <td>5</td>\n",
       "      <td>True</td>\n",
       "      <td>A10SCUCFWNDJYH</td>\n",
       "      <td>thanks</td>\n",
       "      <td>Five Stars</td>\n",
       "      <td>thanks</td>\n",
       "      <td>1</td>\n",
       "    </tr>\n",
       "  </tbody>\n",
       "</table>\n",
       "</div>"
      ],
      "text/plain": [
       "       overall  verified      reviewerID  \\\n",
       "5761         5      True   ABRX0RQNRXX85   \n",
       "11185        5      True  A3U3ZDX50JR3AJ   \n",
       "63571        5      True  A31OIXDTDVNVS8   \n",
       "37118        5      True  A1ODE5OC69SBIF   \n",
       "13499        5      True  A10SCUCFWNDJYH   \n",
       "\n",
       "                                              reviewText  \\\n",
       "5761   I bought these for my wife. She saw them in th...   \n",
       "11185  Love this stencil.  Easy to use.  Wish there w...   \n",
       "63571  I bought this as a gift for my zombie hating s...   \n",
       "37118                             Love how my hands feel   \n",
       "13499                                             thanks   \n",
       "\n",
       "                          summary  \\\n",
       "5761   My wife loves these shoes.   \n",
       "11185                     Daisies   \n",
       "63571         pretty awesome gift   \n",
       "37118                  Hand cream   \n",
       "13499                  Five Stars   \n",
       "\n",
       "                                            review_clean  sentiment  \n",
       "5761   complains favorite buy warehouse store couple ...          1  \n",
       "11185    rub use stencil like ons love easy pattern wish          1  \n",
       "63571  buy zombie cherish hating time love long son gift          1  \n",
       "37118                                     love hand feel          1  \n",
       "13499                                             thanks          1  "
      ]
     },
     "execution_count": 17,
     "metadata": {},
     "output_type": "execute_result"
    }
   ],
   "source": [
    "df3.head()"
   ]
  },
  {
   "cell_type": "code",
   "execution_count": 18,
   "metadata": {},
   "outputs": [],
   "source": [
    "from keras.preprocessing.text import Tokenizer\n",
    "from nltk.tokenize import word_tokenize "
   ]
  },
  {
   "cell_type": "code",
   "execution_count": 22,
   "metadata": {},
   "outputs": [
    {
     "name": "stderr",
     "output_type": "stream",
     "text": [
      "C:\\Users\\Admin\\AppData\\Local\\Temp\\ipykernel_1480\\3197019190.py:1: FutureWarning: The frame.append method is deprecated and will be removed from pandas in a future version. Use pandas.concat instead.\n",
      "  df4 = df3.append(df1, ignore_index=True)\n"
     ]
    }
   ],
   "source": [
    "df4 = df3.append(df1, ignore_index=True)"
   ]
  },
  {
   "cell_type": "code",
   "execution_count": 23,
   "metadata": {},
   "outputs": [
    {
     "data": {
      "text/plain": [
       "(22010, 7)"
      ]
     },
     "execution_count": 23,
     "metadata": {},
     "output_type": "execute_result"
    }
   ],
   "source": [
    "df4.shape"
   ]
  },
  {
   "cell_type": "code",
   "execution_count": 24,
   "metadata": {},
   "outputs": [],
   "source": [
    "df4.review_clean = df4.review_clean.astype(str)"
   ]
  },
  {
   "cell_type": "code",
   "execution_count": 26,
   "metadata": {},
   "outputs": [],
   "source": [
    "corpus = df4['review_clean'].tolist()"
   ]
  },
  {
   "cell_type": "code",
   "execution_count": 27,
   "metadata": {},
   "outputs": [],
   "source": [
    "from keras.preprocessing.sequence import pad_sequences"
   ]
  },
  {
   "cell_type": "code",
   "execution_count": 28,
   "metadata": {},
   "outputs": [],
   "source": [
    "max_features = 2000\n",
    "tokenizer = Tokenizer(num_words=max_features, split=' ')\n",
    "tokenizer.fit_on_texts(df4['review_clean'].values)\n",
    "X = tokenizer.texts_to_sequences(df4['review_clean'].values)\n",
    "X = pad_sequences(X)"
   ]
  },
  {
   "cell_type": "code",
   "execution_count": 29,
   "metadata": {},
   "outputs": [],
   "source": [
    "from sklearn.model_selection import train_test_split"
   ]
  },
  {
   "cell_type": "code",
   "execution_count": 31,
   "metadata": {},
   "outputs": [
    {
     "name": "stdout",
     "output_type": "stream",
     "text": [
      "(14746, 581) (14746, 2)\n",
      "(7264, 581) (7264, 2)\n"
     ]
    }
   ],
   "source": [
    "Y = pd.get_dummies(df4['sentiment']).values\n",
    "X_train, X_test, Y_train, Y_test = train_test_split(X, Y, test_size = 0.33, random_state = 42)\n",
    "print(X_train.shape,Y_train.shape)\n",
    "print(X_test.shape,Y_test.shape)"
   ]
  },
  {
   "cell_type": "code",
   "execution_count": null,
   "metadata": {},
   "outputs": [],
   "source": [
    "from sklearn.utils import resample\n",
    "from sklearn.utils import shuffle"
   ]
  },
  {
   "cell_type": "code",
   "execution_count": null,
   "metadata": {},
   "outputs": [],
   "source": [
    "# Separate majority and minority classes\n",
    "data_majority = df4[df4['sentiment'] == 'Positive']\n",
    "data_minority = df4[df4['sentiment'] == 'Negative']\n",
    "\n",
    "bias = data_minority.shape[0]/data_majority.shape[0]\n",
    "# lets split train/test data first then \n",
    "train = pd.concat([data_majority.sample(frac=0.8,random_state=200),\n",
    "         data_minority.sample(frac=0.8,random_state=200)])\n",
    "test = pd.concat([data_majority.drop(data_majority.sample(frac=0.8,random_state=200).index),\n",
    "        data_minority.drop(data_minority.sample(frac=0.8,random_state=200).index)])\n",
    "\n",
    "train = shuffle(train)\n",
    "test = shuffle(test)"
   ]
  },
  {
   "cell_type": "code",
   "execution_count": null,
   "metadata": {},
   "outputs": [
    {
     "name": "stdout",
     "output_type": "stream",
     "text": [
      "positive data in training: 49435\n",
      "negative data in training: 8679\n",
      "positive data in test: 12359\n",
      "negative data in test: 2170\n"
     ]
    }
   ],
   "source": [
    "print('positive data in training:',(train.sentiment == 'Positive').sum())\n",
    "print('negative data in training:',(train.sentiment == 'Negative').sum())\n",
    "print('positive data in test:',(test.sentiment == 'Positive').sum())\n",
    "print('negative data in test:',(test.sentiment == 'Negative').sum())"
   ]
  },
  {
   "cell_type": "code",
   "execution_count": null,
   "metadata": {},
   "outputs": [
    {
     "name": "stdout",
     "output_type": "stream",
     "text": [
      "majority class before upsample: (49435, 2)\n",
      "minority class before upsample: (8679, 2)\n",
      "After upsampling\n",
      "Positive    49435\n",
      "Negative    49435\n",
      "Name: sentiment, dtype: int64\n",
      "x_train shape: (98870, 488)\n",
      "x_test shape (14529, 488)\n"
     ]
    }
   ],
   "source": [
    "# Separate majority and minority classes in training data for upsampling \n",
    "data_majority = train[train['sentiment'] == 'Positive']\n",
    "data_minority = train[train['sentiment'] == 'Negative']\n",
    "\n",
    "print(\"majority class before upsample:\",data_majority.shape)\n",
    "print(\"minority class before upsample:\",data_minority.shape)\n",
    "\n",
    "# Upsample minority class\n",
    "data_minority_upsampled = resample(data_minority, \n",
    "                                 replace=True,     # sample with replacement\n",
    "                                 n_samples= data_majority.shape[0],    # to match majority class\n",
    "                                 random_state=123) # reproducible results\n",
    " \n",
    "# Combine majority class with upsampled minority class\n",
    "data_upsampled = pd.concat([data_majority, data_minority_upsampled])\n",
    " \n",
    "# Display new class counts\n",
    "print(\"After upsampling\\n\",data_upsampled.sentiment.value_counts(),sep = \"\")\n",
    "\n",
    "max_fatures = 2000\n",
    "tokenizer = Tokenizer(num_words=max_fatures, split=' ')\n",
    "tokenizer.fit_on_texts(df4['reviewText'].values) # training with whole data\n",
    "\n",
    "X_train = tokenizer.texts_to_sequences(data_upsampled['reviewText'].values)\n",
    "X_train = pad_sequences(X_train,maxlen=488)\n",
    "Y_train = pd.get_dummies(data_upsampled['sentiment']).values\n",
    "print('x_train shape:',X_train.shape)\n",
    "\n",
    "X_test = tokenizer.texts_to_sequences(test['reviewText'].values)\n",
    "X_test = pad_sequences(X_test,maxlen=488)\n",
    "Y_test = pd.get_dummies(test['sentiment']).values\n",
    "print(\"x_test shape\", X_test.shape)"
   ]
  },
  {
   "cell_type": "code",
   "execution_count": 32,
   "metadata": {},
   "outputs": [],
   "source": [
    "from keras.models import Sequential\n",
    "from keras.layers import Dense, Embedding, LSTM, SpatialDropout1D"
   ]
  },
  {
   "cell_type": "code",
   "execution_count": null,
   "metadata": {},
   "outputs": [
    {
     "name": "stdout",
     "output_type": "stream",
     "text": [
      "Model: \"sequential_1\"\n",
      "_________________________________________________________________\n",
      " Layer (type)                Output Shape              Param #   \n",
      "=================================================================\n",
      " embedding_1 (Embedding)     (None, 488, 128)          320000    \n",
      "                                                                 \n",
      " spatial_dropout1d_1 (Spatia  (None, 488, 128)         0         \n",
      " lDropout1D)                                                     \n",
      "                                                                 \n",
      " lstm_1 (LSTM)               (None, 196)               254800    \n",
      "                                                                 \n",
      " dense_1 (Dense)             (None, 2)                 394       \n",
      "                                                                 \n",
      "=================================================================\n",
      "Total params: 575,194\n",
      "Trainable params: 575,194\n",
      "Non-trainable params: 0\n",
      "_________________________________________________________________\n",
      "None\n"
     ]
    }
   ],
   "source": [
    "embed_dim = 128\n",
    "lstm_out = 196\n",
    "\n",
    "model = Sequential()\n",
    "model.add(Embedding(2500, embed_dim,input_length = X.shape[1]))\n",
    "model.add(SpatialDropout1D(0.4))\n",
    "model.add(LSTM(lstm_out, dropout=0.2))\n",
    "model.add(Dense(2,activation='softmax'))\n",
    "model.compile(loss = 'categorical_crossentropy', optimizer='adam',metrics = ['accuracy'])\n",
    "print(model.summary())"
   ]
  },
  {
   "cell_type": "code",
   "execution_count": 42,
   "metadata": {},
   "outputs": [
    {
     "name": "stdout",
     "output_type": "stream",
     "text": [
      "Epoch 1/20\n",
      "461/461 - 21s - loss: 0.5546 - accuracy: 0.7338 - 21s/epoch - 45ms/step\n",
      "Epoch 2/20\n",
      "461/461 - 19s - loss: 0.4120 - accuracy: 0.8133 - 19s/epoch - 42ms/step\n",
      "Epoch 3/20\n",
      "461/461 - 19s - loss: 0.3730 - accuracy: 0.8364 - 19s/epoch - 41ms/step\n",
      "Epoch 4/20\n",
      "461/461 - 19s - loss: 0.3484 - accuracy: 0.8471 - 19s/epoch - 42ms/step\n",
      "Epoch 5/20\n",
      "461/461 - 19s - loss: 0.3230 - accuracy: 0.8611 - 19s/epoch - 42ms/step\n",
      "Epoch 6/20\n",
      "461/461 - 19s - loss: 0.2986 - accuracy: 0.8740 - 19s/epoch - 42ms/step\n",
      "Epoch 7/20\n",
      "461/461 - 19s - loss: 0.2779 - accuracy: 0.8856 - 19s/epoch - 41ms/step\n",
      "Epoch 8/20\n",
      "461/461 - 19s - loss: 0.2637 - accuracy: 0.8933 - 19s/epoch - 40ms/step\n",
      "Epoch 9/20\n",
      "461/461 - 19s - loss: 0.2491 - accuracy: 0.8953 - 19s/epoch - 41ms/step\n",
      "Epoch 10/20\n",
      "461/461 - 19s - loss: 0.2308 - accuracy: 0.9059 - 19s/epoch - 41ms/step\n",
      "Epoch 11/20\n",
      "461/461 - 19s - loss: 0.2212 - accuracy: 0.9090 - 19s/epoch - 42ms/step\n",
      "Epoch 12/20\n",
      "461/461 - 20s - loss: 0.2023 - accuracy: 0.9158 - 20s/epoch - 43ms/step\n",
      "Epoch 13/20\n",
      "461/461 - 20s - loss: 0.1917 - accuracy: 0.9240 - 20s/epoch - 43ms/step\n",
      "Epoch 14/20\n",
      "461/461 - 19s - loss: 0.1806 - accuracy: 0.9251 - 19s/epoch - 42ms/step\n",
      "Epoch 15/20\n",
      "461/461 - 20s - loss: 0.1684 - accuracy: 0.9305 - 20s/epoch - 43ms/step\n",
      "Epoch 16/20\n",
      "461/461 - 20s - loss: 0.1547 - accuracy: 0.9390 - 20s/epoch - 42ms/step\n",
      "Epoch 17/20\n",
      "461/461 - 20s - loss: 0.1570 - accuracy: 0.9374 - 20s/epoch - 43ms/step\n",
      "Epoch 18/20\n",
      "461/461 - 20s - loss: 0.1392 - accuracy: 0.9451 - 20s/epoch - 43ms/step\n",
      "Epoch 19/20\n",
      "461/461 - 20s - loss: 0.1353 - accuracy: 0.9459 - 20s/epoch - 42ms/step\n",
      "Epoch 20/20\n",
      "461/461 - 20s - loss: 0.1283 - accuracy: 0.9485 - 20s/epoch - 43ms/step\n"
     ]
    },
    {
     "data": {
      "text/plain": [
       "<keras.callbacks.History at 0x1ff29b8c220>"
      ]
     },
     "execution_count": 42,
     "metadata": {},
     "output_type": "execute_result"
    }
   ],
   "source": [
    "batch_size = 128\n",
    "# also adding weights\n",
    "class_weights = {0: 1 ,\n",
    "                1: 1/bias }\n",
    "model.fit(X_train, Y_train, epochs = 10, batch_size=batch_size, verbose = 1,\n",
    "          class_weight=class_weights)"
   ]
  },
  {
   "cell_type": "code",
   "execution_count": null,
   "metadata": {},
   "outputs": [],
   "source": [
    "from sklearn.metrics import confusion_matrix,classification_report\n",
    "import numpy as np"
   ]
  },
  {
   "cell_type": "code",
   "execution_count": null,
   "metadata": {},
   "outputs": [
    {
     "name": "stdout",
     "output_type": "stream",
     "text": [
      "confusion matrix [[ 1341   861]\n",
      " [  460 11867]]\n",
      "              precision    recall  f1-score   support\n",
      "\n",
      "           0       0.74      0.61      0.67      2202\n",
      "           1       0.93      0.96      0.95     12327\n",
      "\n",
      "    accuracy                           0.91     14529\n",
      "   macro avg       0.84      0.79      0.81     14529\n",
      "weighted avg       0.90      0.91      0.91     14529\n",
      "\n"
     ]
    }
   ],
   "source": [
    "Y_pred = model.predict(X_test,batch_size = batch_size) \n",
    "Y_pred=np.argmax(Y_pred,axis=1)\n",
    "df_test = pd.DataFrame({'true': Y_test.tolist(), 'pred':Y_pred})\n",
    "df_test['true'] = df_test['true'].apply(lambda x: np.argmax(x))\n",
    "print(\"confusion matrix\",confusion_matrix(df_test.true, df_test.pred))\n",
    "print(classification_report(df_test.true, df_test.pred))"
   ]
  },
  {
   "cell_type": "code",
   "execution_count": 47,
   "metadata": {},
   "outputs": [],
   "source": [
    "model.save('model12.hdf5')"
   ]
  }
 ],
 "metadata": {
  "interpreter": {
   "hash": "afcb804707279b9b642cf2a94c26a02d7fe35902e873945e34f9c8bae120ddc3"
  },
  "kernelspec": {
   "display_name": "Python 3.8.0 ('capstone3')",
   "language": "python",
   "name": "python3"
  },
  "language_info": {
   "codemirror_mode": {
    "name": "ipython",
    "version": 3
   },
   "file_extension": ".py",
   "mimetype": "text/x-python",
   "name": "python",
   "nbconvert_exporter": "python",
   "pygments_lexer": "ipython3",
   "version": "3.8.0"
  },
  "orig_nbformat": 4
 },
 "nbformat": 4,
 "nbformat_minor": 2
}
